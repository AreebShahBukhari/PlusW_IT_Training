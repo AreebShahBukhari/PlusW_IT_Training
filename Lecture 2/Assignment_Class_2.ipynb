{
  "nbformat": 4,
  "nbformat_minor": 0,
  "metadata": {
    "colab": {
      "provenance": []
    },
    "kernelspec": {
      "name": "python3",
      "display_name": "Python 3"
    },
    "language_info": {
      "name": "python"
    }
  },
  "cells": [
    {
      "cell_type": "code",
      "execution_count": 1,
      "metadata": {
        "colab": {
          "base_uri": "https://localhost:8080/"
        },
        "id": "loU2vr9SXXN8",
        "outputId": "3d7372e1-4490-48b1-d97a-47a421716856"
      },
      "outputs": [
        {
          "output_type": "stream",
          "name": "stdout",
          "text": [
            "Enter your first name: Areeb\n",
            "Enter your last name: Shah\n",
            "Your first name in capitals is: AREEB\n",
            "Your last name in smalls is: shah\n",
            "Your name has 9 letters in it.\n"
          ]
        }
      ],
      "source": [
        "first_name = input (\"Enter your first name: \")\n",
        "last_name = input (\"Enter your last name: \")\n",
        "\n",
        "first_name = first_name.upper()\n",
        "last_name = last_name.lower()\n",
        "\n",
        "total_letters = len (first_name) + len (last_name)\n",
        "\n",
        "print (\"Your first name in capitals is:\", first_name)\n",
        "print (\"Your last name in smalls is:\", last_name)\n",
        "print (\"Your name has\", total_letters, \"letters in it.\")"
      ]
    },
    {
      "cell_type": "code",
      "source": [
        "prompt = \"\"\"\n",
        "         Calculating the area of the following shapes:\n",
        "         1. Circle\n",
        "         2. Rectangle\n",
        "         3. Square\n",
        "         4. Triangle\n",
        "         \"\"\"\n",
        "\n",
        "print(prompt)\n",
        "\n",
        "\n",
        "print (\"Finding the area of the Circle:\")\n",
        "radius = float (input (\"Enter the radius of the circle: \"))\n",
        "areaC = 3.14 * radius **2\n",
        "\n",
        "\n",
        "print (\"\\nFinding the area of the Rectangle:\")\n",
        "length = float (input (\"Enter the length of the rectangle: \"))\n",
        "breadth = float (input (\"Enter the breadth of the rectangle: \"))\n",
        "areaR = length * breadth\n",
        "\n",
        "\n",
        "print (\"\\nFinding the area of the Square:\")\n",
        "side = float (input (\"Enter the side of the square: \"))\n",
        "areaS = side **2\n",
        "\n",
        "\n",
        "print (\"\\nFinding the area of the Triangle:\")\n",
        "base = float (input (\"Enter the base of the triangle: \"))\n",
        "height = float (input (\"Enter the height of the triangle: \"))\n",
        "areaT = 0.5 * base * height\n",
        "\n",
        "\n",
        "print (\"\\nThe area of the Circle is:\", areaC)\n",
        "print (\"The area of the Rectangle is:\", areaR)\n",
        "print (\"The area of the Square is:\", areaS)\n",
        "print (\"The area of the Triangle is:\", areaT)"
      ],
      "metadata": {
        "colab": {
          "base_uri": "https://localhost:8080/"
        },
        "id": "hm-P8DhgXjBn",
        "outputId": "3b160302-6996-4b92-d6a0-e76bfe4de879"
      },
      "execution_count": 2,
      "outputs": [
        {
          "output_type": "stream",
          "name": "stdout",
          "text": [
            "\n",
            "         Calculating the area of the following shapes:\n",
            "         1. Circle\n",
            "         2. Rectangle\n",
            "         3. Square\n",
            "         4. Triangle\n",
            "         \n",
            "Finding the area of the Circle:\n",
            "Enter the radius of the circle: 5\n",
            "\n",
            "Finding the area of the Rectangle:\n",
            "Enter the length of the rectangle: 6\n",
            "Enter the breadth of the rectangle: 3\n",
            "\n",
            "Finding the area of the Square:\n",
            "Enter the side of the square: 3\n",
            "\n",
            "Finding the area of the Triangle:\n",
            "Enter the base of the triangle: 4\n",
            "Enter the height of the triangle: 5\n",
            "\n",
            "The area of the Circle is: 78.5\n",
            "The area of the Rectangle is: 18.0\n",
            "The area of the Square is: 9.0\n",
            "The area of the Triangle is: 10.0\n"
          ]
        }
      ]
    },
    {
      "cell_type": "code",
      "source": [
        "import random\n",
        "\n",
        "colours = [\"red\", \"blue\", \"green\", \"yellow\", \"orange\", \"purple\"]\n",
        "\n",
        "index = random.randint (0, len(colours) - 1)\n",
        "\n",
        "chosen_colour = colours [index]\n",
        "\n",
        "password = chosen_colour[::-1]\n",
        "\n",
        "print (\"Chosen colour:\", chosen_colour)\n",
        "print (\"Generated_password:\", password)"
      ],
      "metadata": {
        "id": "IzKLHi4PXup5",
        "outputId": "2a31198d-42c4-4163-f1bf-9db87ec74caf",
        "colab": {
          "base_uri": "https://localhost:8080/"
        }
      },
      "execution_count": 3,
      "outputs": [
        {
          "output_type": "stream",
          "name": "stdout",
          "text": [
            "Chosen colour: green\n",
            "Generated_password: neerg\n"
          ]
        }
      ]
    }
  ]
}