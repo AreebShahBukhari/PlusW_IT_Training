{
  "nbformat": 4,
  "nbformat_minor": 0,
  "metadata": {
    "colab": {
      "provenance": []
    },
    "kernelspec": {
      "name": "python3",
      "display_name": "Python 3"
    },
    "language_info": {
      "name": "python"
    }
  },
  "cells": [
    {
      "cell_type": "code",
      "execution_count": 1,
      "metadata": {
        "colab": {
          "base_uri": "https://localhost:8080/"
        },
        "id": "3zwzIfJcX-Hw",
        "outputId": "09a005f3-2cfb-4a6e-a355-1b626c5d2f55"
      },
      "outputs": [
        {
          "output_type": "stream",
          "name": "stdout",
          "text": [
            "Enter your age: 23\n",
            "You are eligible for the vote\n"
          ]
        }
      ],
      "source": [
        "# Condtional statement\n",
        "\n",
        "age = int(input(\"Enter your age: \"))\n",
        "if age >= 21:\n",
        "  print(\"You are eligible for the vote\")"
      ]
    },
    {
      "cell_type": "code",
      "source": [
        "# If-else statement\n",
        "\n",
        "age = input (\"Enter your age: \")\n",
        "if int(age) >= 21:\n",
        "  print (\"You are eligible for the vote\")\n",
        "else:\n",
        "  print (\"You are not eligible for the vote\")\n"
      ],
      "metadata": {
        "colab": {
          "base_uri": "https://localhost:8080/"
        },
        "id": "AzzCeiOLYGoc",
        "outputId": "6e626595-3b29-4602-9c36-bfa7d532b112"
      },
      "execution_count": 2,
      "outputs": [
        {
          "output_type": "stream",
          "name": "stdout",
          "text": [
            "Enter your age: 23\n",
            "You are eligible for the vote\n"
          ]
        }
      ]
    },
    {
      "cell_type": "code",
      "source": [
        "# If-else and elif statement\n",
        "\n",
        "marks = 70\n",
        "if marks >= 90:\n",
        "  print(\"Grade: A\")\n",
        "elif marks >= 80:\n",
        "  print(\"Grade: B\")\n",
        "elif marks >= 70:\n",
        "  print(\"Grade: C\")\n",
        "elif marks >= 60:\n",
        "  print(\"Grade: D\")\n",
        "else:\n",
        "  print(\"Grade: F\")"
      ],
      "metadata": {
        "colab": {
          "base_uri": "https://localhost:8080/"
        },
        "id": "Dl-h1kb6YItd",
        "outputId": "d9637fae-52e3-45b1-b701-61d4b1b0d12a"
      },
      "execution_count": 3,
      "outputs": [
        {
          "output_type": "stream",
          "name": "stdout",
          "text": [
            "Grade: C\n"
          ]
        }
      ]
    },
    {
      "cell_type": "code",
      "source": [
        "# Nested if statement\n",
        "\n",
        "num = int(input(\"Enter a number: \")) # 10, -1\n",
        "if num >=0:\n",
        "  if num == 0:\n",
        "    print(\"Number is zero\")\n",
        "  else:\n",
        "    print(\"Number is positive\")\n",
        "else:\n",
        "  print(\"Number is negative\")"
      ],
      "metadata": {
        "colab": {
          "base_uri": "https://localhost:8080/"
        },
        "id": "QHt8Mzn7YLjt",
        "outputId": "875e08a8-a1b1-42f3-9576-6b124359c822"
      },
      "execution_count": 5,
      "outputs": [
        {
          "output_type": "stream",
          "name": "stdout",
          "text": [
            "Enter a number: 4\n",
            "Number is positive\n"
          ]
        }
      ]
    },
    {
      "cell_type": "code",
      "source": [
        "# Conditions\n",
        "\n",
        "num = 10\n",
        "\n",
        "if num > 5:\n",
        "  if num % 2 == 0:\n",
        "    print(f\"The even number {num} is greater than 5\")\n",
        "  else:\n",
        "    print(f\"The odd number {num} is greater than 5\")\n",
        ""
      ],
      "metadata": {
        "colab": {
          "base_uri": "https://localhost:8080/"
        },
        "id": "TsBs4LdHYQxp",
        "outputId": "0dd297ae-f82a-4463-f949-d56b7256a50f"
      },
      "execution_count": 6,
      "outputs": [
        {
          "output_type": "stream",
          "name": "stdout",
          "text": [
            "The even number 10 is greater than 5\n"
          ]
        }
      ]
    },
    {
      "cell_type": "code",
      "source": [
        "is_adult = True\n",
        "has_voter_id = False\n",
        "\n",
        "if is_adult and has_voter_id:\n",
        "  print(\"You are eligible to vote\")\n",
        "else:\n",
        "  print(\"You are not eligible to vote\")"
      ],
      "metadata": {
        "colab": {
          "base_uri": "https://localhost:8080/"
        },
        "id": "-btWYWFXYWhr",
        "outputId": "863c64cb-ee64-4479-e56e-a0e53147e8f7"
      },
      "execution_count": 7,
      "outputs": [
        {
          "output_type": "stream",
          "name": "stdout",
          "text": [
            "You are not eligible to vote\n"
          ]
        }
      ]
    },
    {
      "cell_type": "code",
      "source": [
        "# Ternary Operator\n",
        "# A shorthand way of writing a single if-else statement\n",
        "\n",
        "age = 30\n",
        "\n",
        "message = \"Adult\" if age >= 18 else \"Not Adult\"\n",
        "print(message)"
      ],
      "metadata": {
        "colab": {
          "base_uri": "https://localhost:8080/"
        },
        "id": "ZvucH88VYYHH",
        "outputId": "39291530-becd-4392-b613-08c027ac1a5b"
      },
      "execution_count": 8,
      "outputs": [
        {
          "output_type": "stream",
          "name": "stdout",
          "text": [
            "Adult\n"
          ]
        }
      ]
    },
    {
      "cell_type": "code",
      "source": [
        "# Match-case\n",
        "# Traffic Signal\n",
        "\n",
        "colour = input(\"Enter the colour:\")\n",
        "colour = colour.lower()\n",
        "\n",
        "match colour:\n",
        "  case 'red':\n",
        "    print(\"Stop\")\n",
        "  case 'yellow':\n",
        "    print(\"Get ready\")\n",
        "  case 'green':\n",
        "    print(\"Go\")\n",
        "  case _:\n",
        "    print(\"Wrong\")"
      ],
      "metadata": {
        "colab": {
          "base_uri": "https://localhost:8080/"
        },
        "id": "EkuuDC0NYg5f",
        "outputId": "f95b9f2c-d748-4dc6-ef2d-e48ecb57f44d"
      },
      "execution_count": 9,
      "outputs": [
        {
          "output_type": "stream",
          "name": "stdout",
          "text": [
            "Enter the colour:red\n",
            "Stop\n"
          ]
        }
      ]
    },
    {
      "cell_type": "code",
      "source": [
        "# For a loop on a list\n",
        "\n",
        "fruits = [\"Apples\", \"Oranges\", \"Mangoes\"]\n",
        "\n",
        "for myChoice in fruits:\n",
        "  print(myChoice)"
      ],
      "metadata": {
        "colab": {
          "base_uri": "https://localhost:8080/"
        },
        "id": "EINL7sK4YoVS",
        "outputId": "43610251-befb-416b-cc9f-a0269824ecc7"
      },
      "execution_count": 10,
      "outputs": [
        {
          "output_type": "stream",
          "name": "stdout",
          "text": [
            "Apples\n",
            "Oranges\n",
            "Mangoes\n"
          ]
        }
      ]
    },
    {
      "cell_type": "code",
      "source": [
        "# For a loop on a string\n",
        "\n",
        "word = \"Miami\"\n",
        "for letters in word:\n",
        "  print(letters)"
      ],
      "metadata": {
        "colab": {
          "base_uri": "https://localhost:8080/"
        },
        "id": "vLcyM9VZYsW2",
        "outputId": "08b13ded-2201-49bb-9a0d-290c6ede718f"
      },
      "execution_count": 12,
      "outputs": [
        {
          "output_type": "stream",
          "name": "stdout",
          "text": [
            "M\n",
            "i\n",
            "a\n",
            "m\n",
            "i\n"
          ]
        }
      ]
    },
    {
      "cell_type": "code",
      "source": [
        "# For a loop on a dictionary\n",
        "\n",
        "connections = {\"Fruit\":\"Date\", \"Car\":\"Lamborghini\", \"City\":\"LA\"}\n",
        "\n",
        "for swag, type in connections.items():\n",
        "  print(f\"{swag}: {type}\")"
      ],
      "metadata": {
        "colab": {
          "base_uri": "https://localhost:8080/"
        },
        "id": "oopC3x4PY301",
        "outputId": "a30bcb7a-c40f-4ad5-c6bc-046abe740069"
      },
      "execution_count": 13,
      "outputs": [
        {
          "output_type": "stream",
          "name": "stdout",
          "text": [
            "Fruit: Date\n",
            "Car: Lamborghini\n",
            "City: LA\n"
          ]
        }
      ]
    },
    {
      "cell_type": "code",
      "source": [
        "# range\n",
        "\n",
        "for i in range(1, 11): # 11 is not include in the output\n",
        "  print(i)"
      ],
      "metadata": {
        "colab": {
          "base_uri": "https://localhost:8080/"
        },
        "id": "dc9VvhHgY9bc",
        "outputId": "0c828640-8a4d-4718-f37b-306acac26427"
      },
      "execution_count": 14,
      "outputs": [
        {
          "output_type": "stream",
          "name": "stdout",
          "text": [
            "1\n",
            "2\n",
            "3\n",
            "4\n",
            "5\n",
            "6\n",
            "7\n",
            "8\n",
            "9\n",
            "10\n"
          ]
        }
      ]
    },
    {
      "cell_type": "code",
      "source": [
        "# while loop\n",
        "\n",
        "count = 0;\n",
        "\n",
        "while count < 5:\n",
        "  print(f\"Count: {count}\")\n",
        "  count += 1"
      ],
      "metadata": {
        "colab": {
          "base_uri": "https://localhost:8080/"
        },
        "id": "lJEL1iJRZBEO",
        "outputId": "8d34805b-27c9-4e10-894b-fbd1a27da191"
      },
      "execution_count": 15,
      "outputs": [
        {
          "output_type": "stream",
          "name": "stdout",
          "text": [
            "Count: 0\n",
            "Count: 1\n",
            "Count: 2\n",
            "Count: 3\n",
            "Count: 4\n"
          ]
        }
      ]
    },
    {
      "cell_type": "code",
      "source": [
        "# run a loop infine times\n",
        "\n",
        "while True:\n",
        "  user_input = input(\"Press 'q' to exit \")\n",
        "  if user_input == \"q\":\n",
        "    print(\"\\nExiting the loop\\nCiao\")\n",
        "    break"
      ],
      "metadata": {
        "colab": {
          "base_uri": "https://localhost:8080/"
        },
        "id": "viKmwlbUZENd",
        "outputId": "e0cd9f0e-0fd6-4e85-ba7d-27496941ab5e"
      },
      "execution_count": 16,
      "outputs": [
        {
          "output_type": "stream",
          "name": "stdout",
          "text": [
            "Press 'q' to exit 1\n",
            "Press 'q' to exit q\n",
            "\n",
            "Exiting the loop\n",
            "Ciao\n"
          ]
        }
      ]
    },
    {
      "cell_type": "code",
      "source": [
        "for i in range(10):\n",
        "  if i == 5:\n",
        "    continue\n",
        "  print(i)"
      ],
      "metadata": {
        "colab": {
          "base_uri": "https://localhost:8080/"
        },
        "id": "n6JDMs1fZI6-",
        "outputId": "6169889c-27e7-43bc-87e6-50a4023be61b"
      },
      "execution_count": 17,
      "outputs": [
        {
          "output_type": "stream",
          "name": "stdout",
          "text": [
            "0\n",
            "1\n",
            "2\n",
            "3\n",
            "4\n",
            "6\n",
            "7\n",
            "8\n",
            "9\n"
          ]
        }
      ]
    },
    {
      "cell_type": "code",
      "source": [
        "# a loop inside a loop\n",
        "\n",
        "for i in range(3):\n",
        "  for j in range(3):\n",
        "    print(i, j)\n",
        "\n",
        "    # 3x3 matrix\n",
        "\n",
        "    # (0,0) (0,1) (0, 2)\n",
        "    # (1,0) (1,1) (1, 2)\n",
        "    # (2,0) (2,1) (2, 2)"
      ],
      "metadata": {
        "colab": {
          "base_uri": "https://localhost:8080/"
        },
        "id": "OYX_Oc1mZMne",
        "outputId": "a0e4f6a1-6697-48ab-8660-6f9463872b55"
      },
      "execution_count": 18,
      "outputs": [
        {
          "output_type": "stream",
          "name": "stdout",
          "text": [
            "0 0\n",
            "0 1\n",
            "0 2\n",
            "1 0\n",
            "1 1\n",
            "1 2\n",
            "2 0\n",
            "2 1\n",
            "2 2\n"
          ]
        }
      ]
    },
    {
      "cell_type": "code",
      "source": [
        "for i in range(1, 6): # outer loop\n",
        "  for j in range(1, 13): # inner loop\n",
        "    print(f\"{j} x {i} = {i * j}\")\n",
        "  print()"
      ],
      "metadata": {
        "colab": {
          "base_uri": "https://localhost:8080/"
        },
        "id": "4zNw0f0aZPDY",
        "outputId": "d0b6a4e1-042d-4208-d03e-185472a279c8"
      },
      "execution_count": 19,
      "outputs": [
        {
          "output_type": "stream",
          "name": "stdout",
          "text": [
            "1 x 1 = 1\n",
            "2 x 1 = 2\n",
            "3 x 1 = 3\n",
            "4 x 1 = 4\n",
            "5 x 1 = 5\n",
            "6 x 1 = 6\n",
            "7 x 1 = 7\n",
            "8 x 1 = 8\n",
            "9 x 1 = 9\n",
            "10 x 1 = 10\n",
            "11 x 1 = 11\n",
            "12 x 1 = 12\n",
            "\n",
            "1 x 2 = 2\n",
            "2 x 2 = 4\n",
            "3 x 2 = 6\n",
            "4 x 2 = 8\n",
            "5 x 2 = 10\n",
            "6 x 2 = 12\n",
            "7 x 2 = 14\n",
            "8 x 2 = 16\n",
            "9 x 2 = 18\n",
            "10 x 2 = 20\n",
            "11 x 2 = 22\n",
            "12 x 2 = 24\n",
            "\n",
            "1 x 3 = 3\n",
            "2 x 3 = 6\n",
            "3 x 3 = 9\n",
            "4 x 3 = 12\n",
            "5 x 3 = 15\n",
            "6 x 3 = 18\n",
            "7 x 3 = 21\n",
            "8 x 3 = 24\n",
            "9 x 3 = 27\n",
            "10 x 3 = 30\n",
            "11 x 3 = 33\n",
            "12 x 3 = 36\n",
            "\n",
            "1 x 4 = 4\n",
            "2 x 4 = 8\n",
            "3 x 4 = 12\n",
            "4 x 4 = 16\n",
            "5 x 4 = 20\n",
            "6 x 4 = 24\n",
            "7 x 4 = 28\n",
            "8 x 4 = 32\n",
            "9 x 4 = 36\n",
            "10 x 4 = 40\n",
            "11 x 4 = 44\n",
            "12 x 4 = 48\n",
            "\n",
            "1 x 5 = 5\n",
            "2 x 5 = 10\n",
            "3 x 5 = 15\n",
            "4 x 5 = 20\n",
            "5 x 5 = 25\n",
            "6 x 5 = 30\n",
            "7 x 5 = 35\n",
            "8 x 5 = 40\n",
            "9 x 5 = 45\n",
            "10 x 5 = 50\n",
            "11 x 5 = 55\n",
            "12 x 5 = 60\n",
            "\n"
          ]
        }
      ]
    },
    {
      "cell_type": "code",
      "source": [
        "# loop else statement\n",
        "\n",
        "for i in range(5):\n",
        "  print(i)\n",
        "else:\n",
        "  print(\"End of the line\")"
      ],
      "metadata": {
        "colab": {
          "base_uri": "https://localhost:8080/"
        },
        "id": "FWKhpk3MZQI_",
        "outputId": "640c6bee-45f0-4fd4-fb6d-fac05c30c6f3"
      },
      "execution_count": 20,
      "outputs": [
        {
          "output_type": "stream",
          "name": "stdout",
          "text": [
            "0\n",
            "1\n",
            "2\n",
            "3\n",
            "4\n",
            "End of the line\n"
          ]
        }
      ]
    },
    {
      "cell_type": "code",
      "source": [
        "# search functionality\n",
        "\n",
        "num = [1,2,3,4,5]\n",
        "search = 7\n",
        "\n",
        "for nums in num:\n",
        "  if nums == search:\n",
        "    print(f\"Congratulations: found {search}\")\n",
        "    break\n",
        "else:\n",
        "  print(f\"Error: your search item {search} was not found\")"
      ],
      "metadata": {
        "colab": {
          "base_uri": "https://localhost:8080/"
        },
        "id": "anDAG3ImZXN-",
        "outputId": "15a0edb1-873a-4b95-a9af-a6207f23422a"
      },
      "execution_count": 21,
      "outputs": [
        {
          "output_type": "stream",
          "name": "stdout",
          "text": [
            "Error: your search item 7 was not found\n"
          ]
        }
      ]
    },
    {
      "cell_type": "code",
      "source": [
        "# defining a functions in Python\n",
        "\n",
        "def greet():\n",
        "  print(\"Assalam u Alaikum, I am learning Python with instructor Umair\")\n",
        "\n",
        "greet()"
      ],
      "metadata": {
        "colab": {
          "base_uri": "https://localhost:8080/"
        },
        "id": "fsVqssKNZbUE",
        "outputId": "9e44aff5-6534-4008-9b40-4771eb179e17"
      },
      "execution_count": 22,
      "outputs": [
        {
          "output_type": "stream",
          "name": "stdout",
          "text": [
            "Assalam u Alaikum, I am learning Python with instructor Umair\n"
          ]
        }
      ]
    },
    {
      "cell_type": "code",
      "source": [
        "def greet(name):\n",
        "  print(f\"Assalam u Alaikum, {name} is learning Python\")\n",
        "\n",
        "greet(\"Areeb\")"
      ],
      "metadata": {
        "colab": {
          "base_uri": "https://localhost:8080/"
        },
        "id": "2Wkb0mmHZgYV",
        "outputId": "5ae813a9-ab6a-4205-8bfa-0e4dddf7dfc6"
      },
      "execution_count": 24,
      "outputs": [
        {
          "output_type": "stream",
          "name": "stdout",
          "text": [
            "Assalam u Alaikum, Areeb is learning Python\n"
          ]
        }
      ]
    },
    {
      "cell_type": "code",
      "source": [
        "def add(a, b):\n",
        "  return a + b\n",
        "print(add(3, 5))\n",
        "\n",
        "def display_info(name, age = 101):\n",
        "  print(f\"\\nName: {name}, Age: {age}\")\n",
        "display_info(name = \"Areeb\", age = 23)"
      ],
      "metadata": {
        "colab": {
          "base_uri": "https://localhost:8080/"
        },
        "id": "zpqdVWa1ZlMQ",
        "outputId": "1b22c3a8-8e21-4a84-b36b-23175b7d0848"
      },
      "execution_count": 26,
      "outputs": [
        {
          "output_type": "stream",
          "name": "stdout",
          "text": [
            "8\n",
            "\n",
            "Name: Areeb, Age: 23\n"
          ]
        }
      ]
    },
    {
      "cell_type": "code",
      "source": [
        "def my_function():\n",
        "  pass\n",
        "\n",
        "result = my_function()\n",
        "print(result)"
      ],
      "metadata": {
        "colab": {
          "base_uri": "https://localhost:8080/"
        },
        "id": "AzYryoXYZsfT",
        "outputId": "b2f921ae-c047-4beb-9b8d-407d754827ae"
      },
      "execution_count": 27,
      "outputs": [
        {
          "output_type": "stream",
          "name": "stdout",
          "text": [
            "None\n"
          ]
        }
      ]
    },
    {
      "cell_type": "code",
      "source": [
        "# arbitrary arguments\n",
        "\n",
        "def print_arg(*args):\n",
        "  for arg in args:\n",
        "    print(arg)\n",
        "print_arg(1, 2, 3, 4, 5)\n",
        "\n",
        "def print_kwargs(**kwargs):\n",
        "  for key, value in kwargs.items():\n",
        "    print(f\"{key}: {value}\")\n",
        "print_kwargs(name = \"Areeb\", age = 23)"
      ],
      "metadata": {
        "colab": {
          "base_uri": "https://localhost:8080/"
        },
        "id": "O40Oh9YTZxaD",
        "outputId": "e4880076-5d35-4696-c394-692bbec71b9d"
      },
      "execution_count": 29,
      "outputs": [
        {
          "output_type": "stream",
          "name": "stdout",
          "text": [
            "1\n",
            "2\n",
            "3\n",
            "4\n",
            "5\n",
            "name: Areeb\n",
            "age: 23\n"
          ]
        }
      ]
    },
    {
      "cell_type": "code",
      "source": [
        "# lambda function\n",
        "# one liner function\n",
        "\n",
        "square = lambda x: x ** 2\n",
        "print(square(5))   # x = 5"
      ],
      "metadata": {
        "colab": {
          "base_uri": "https://localhost:8080/"
        },
        "id": "QrGjsscfZ3VY",
        "outputId": "00bfe7f7-0e3a-47d0-d702-2956038e9982"
      },
      "execution_count": 30,
      "outputs": [
        {
          "output_type": "stream",
          "name": "stdout",
          "text": [
            "25\n"
          ]
        }
      ]
    }
  ]
}