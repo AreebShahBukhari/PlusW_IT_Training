{
  "nbformat": 4,
  "nbformat_minor": 0,
  "metadata": {
    "colab": {
      "provenance": []
    },
    "kernelspec": {
      "name": "python3",
      "display_name": "Python 3"
    },
    "language_info": {
      "name": "python"
    }
  },
  "cells": [
    {
      "cell_type": "code",
      "execution_count": 1,
      "metadata": {
        "colab": {
          "base_uri": "https://localhost:8080/"
        },
        "id": "lBXQ6DIS3Bpn",
        "outputId": "314e1171-a14b-4c45-8f7a-57a3a9acb75e"
      },
      "outputs": [
        {
          "output_type": "stream",
          "name": "stdout",
          "text": [
            "This is my second class of python\n"
          ]
        }
      ],
      "source": [
        "#indentation\n",
        "if True:\n",
        "  print (\"This is my second class of python\")\n",
        "\n",
        "#comments"
      ]
    },
    {
      "cell_type": "code",
      "source": [
        "name = 'Areeb'\n",
        "age = 23\n",
        "\n",
        "PI = 3.14159 # constant (capital)\n",
        "\n",
        "print (\"My name is\", name)\n",
        "print (\"My age is\", age)\n",
        "print (PI)"
      ],
      "metadata": {
        "colab": {
          "base_uri": "https://localhost:8080/"
        },
        "id": "fpaFl2FaWZUq",
        "outputId": "2b14b247-6f07-4ed3-a664-5591a7840c62"
      },
      "execution_count": 3,
      "outputs": [
        {
          "output_type": "stream",
          "name": "stdout",
          "text": [
            "My name is Areeb\n",
            "My age is 23\n",
            "3.14159\n"
          ]
        }
      ]
    },
    {
      "cell_type": "code",
      "source": [
        "# Input and output function\n",
        "name = input (\"Enter your name: \") # input function\n",
        "print (\"My name is\", name) # output function\n",
        "\n",
        "print (type(name))"
      ],
      "metadata": {
        "colab": {
          "base_uri": "https://localhost:8080/"
        },
        "id": "PS1a2oi7WaEX",
        "outputId": "80897469-cbea-422f-8c1b-7da189c35f9d"
      },
      "execution_count": 4,
      "outputs": [
        {
          "output_type": "stream",
          "name": "stdout",
          "text": [
            "Enter your name: Areeb\n",
            "My name is Areeb\n",
            "<class 'str'>\n"
          ]
        }
      ]
    },
    {
      "cell_type": "code",
      "source": [
        "# Primitive data type\n",
        "x = 10 # integer\n",
        "y = 10.01 # float\n",
        "z = 4 +3j # imaginary\n",
        "\n",
        "print (\"Real number is\", z.real)\n",
        "print (\"Imaginary number is\", z.imag)"
      ],
      "metadata": {
        "colab": {
          "base_uri": "https://localhost:8080/"
        },
        "id": "KmgeoWG4Wdwg",
        "outputId": "fcd30ef9-9d3e-4150-c340-ab862c62df85"
      },
      "execution_count": 5,
      "outputs": [
        {
          "output_type": "stream",
          "name": "stdout",
          "text": [
            "Real number is 4.0\n",
            "Imaginary number is 3.0\n"
          ]
        }
      ]
    },
    {
      "cell_type": "code",
      "source": [
        "# String\n",
        "\n",
        "sentence = \"This is my second class of Python language\"\n",
        "print (\"First letter:\", sentence[0])\n",
        "print (\"Here is:\", sentence[-15])\n",
        "\n",
        "\n",
        "greeting = \"Python\" + \"language\"\n",
        "print (greeting)\n",
        "\n",
        "\n",
        "repeat = \"Python\" * 3\n",
        "print (repeat)\n",
        "\n",
        "\n",
        "print(\"Sliced string:\", sentence[0:4])\n",
        "print(\"Sliced string:\", sentence[0:23])\n",
        "\n",
        "\n",
        "print (\"Lower case:\", sentence.lower())\n",
        "print (\"Upper case:\", sentence.upper())\n",
        "\n",
        "\n",
        "print (\"replace:\", sentence.replace(\"Python\", \"C++\"))"
      ],
      "metadata": {
        "colab": {
          "base_uri": "https://localhost:8080/"
        },
        "id": "3gexTPrsWfwn",
        "outputId": "5fbebefe-527e-4a22-ca5e-940655163ab8"
      },
      "execution_count": 6,
      "outputs": [
        {
          "output_type": "stream",
          "name": "stdout",
          "text": [
            "First letter: T\n",
            "Here is: P\n",
            "Pythonlanguage\n",
            "PythonPythonPython\n",
            "Sliced string: This\n",
            "Sliced string: This is my second class\n",
            "Lower case: this is my second class of python language\n",
            "Upper case: THIS IS MY SECOND CLASS OF PYTHON LANGUAGE\n",
            "replace: This is my second class of C++ language\n"
          ]
        }
      ]
    },
    {
      "cell_type": "code",
      "source": [
        "# Collect Data Types\n",
        "\n",
        "# List\n",
        "numbers = [1, 2, 3, 4, 5]\n",
        "\n",
        "numbers.append(6)\n",
        "print (numbers)\n",
        "\n",
        "# List slicing\n",
        "numbers[:3] # 0, 1, 2"
      ],
      "metadata": {
        "colab": {
          "base_uri": "https://localhost:8080/"
        },
        "id": "f2VhEwrYWh7-",
        "outputId": "66d0e0d5-a294-4894-efa5-adaa1cff7e2c"
      },
      "execution_count": 8,
      "outputs": [
        {
          "output_type": "stream",
          "name": "stdout",
          "text": [
            "[1, 2, 3, 4, 5, 6]\n"
          ]
        },
        {
          "output_type": "execute_result",
          "data": {
            "text/plain": [
              "[1, 2, 3]"
            ]
          },
          "metadata": {},
          "execution_count": 8
        }
      ]
    },
    {
      "cell_type": "code",
      "source": [
        "# Tuple\n",
        "numbers = (1, 2, 3, 4, 5)\n",
        "\n",
        "print (numbers)\n",
        "print (numbers[:3])"
      ],
      "metadata": {
        "colab": {
          "base_uri": "https://localhost:8080/"
        },
        "id": "8i8wCLBFWkYG",
        "outputId": "a043aaad-c7ff-4895-a2de-87760d5c5c39"
      },
      "execution_count": 9,
      "outputs": [
        {
          "output_type": "stream",
          "name": "stdout",
          "text": [
            "(1, 2, 3, 4, 5)\n",
            "(1, 2, 3)\n"
          ]
        }
      ]
    },
    {
      "cell_type": "code",
      "source": [
        "# Sets\n",
        "numbers = {1, 2, 3, 4, 5}\n",
        "\n",
        "numbers.add(5)\n",
        "\n",
        "print (numbers)"
      ],
      "metadata": {
        "colab": {
          "base_uri": "https://localhost:8080/"
        },
        "id": "ZVAuxS74Wl08",
        "outputId": "238d8bf8-db55-4486-f391-3c89b1af9e06"
      },
      "execution_count": 10,
      "outputs": [
        {
          "output_type": "stream",
          "name": "stdout",
          "text": [
            "{1, 2, 3, 4, 5}\n"
          ]
        }
      ]
    },
    {
      "cell_type": "code",
      "source": [
        "# Dictionary\n",
        "student = {\"name\": \"random\"} # key value pair\n",
        "\n",
        "student[\"name\"] = \"secondRandom\"\n",
        "print (student)\n",
        "\n",
        "student[\"age\"] = 23\n",
        "print(student)"
      ],
      "metadata": {
        "colab": {
          "base_uri": "https://localhost:8080/"
        },
        "id": "-_vdMs1YWnuh",
        "outputId": "ef9a37c2-fda7-4a29-cd9c-32915ea47a83"
      },
      "execution_count": 13,
      "outputs": [
        {
          "output_type": "stream",
          "name": "stdout",
          "text": [
            "{'name': 'secondRandom'}\n",
            "{'name': 'secondRandom', 'age': 23}\n"
          ]
        }
      ]
    },
    {
      "cell_type": "code",
      "source": [
        "# Implicit Conversion\n",
        "a = 10\n",
        "b = 2.3\n",
        "\n",
        "sum = a + b\n",
        "print(sum)\n",
        "\n",
        "print(type(sum))"
      ],
      "metadata": {
        "colab": {
          "base_uri": "https://localhost:8080/"
        },
        "id": "ffi6AKjBWpJv",
        "outputId": "cc84ab4f-dccf-407f-cd46-4bab241c3627"
      },
      "execution_count": 14,
      "outputs": [
        {
          "output_type": "stream",
          "name": "stdout",
          "text": [
            "12.3\n",
            "<class 'float'>\n"
          ]
        }
      ]
    },
    {
      "cell_type": "code",
      "source": [
        "# Explicit Conversion\n",
        "age = \"22\"\n",
        "integer = 11\n",
        "\n",
        "age = int(age)\n",
        "# integer = str(integer)\n",
        "# float(age)\n",
        "\n",
        "print (type(age))\n",
        "\n",
        "result = age + integer\n",
        "print (result)"
      ],
      "metadata": {
        "colab": {
          "base_uri": "https://localhost:8080/"
        },
        "id": "IMMgqMMcWqUf",
        "outputId": "eb18e750-8df9-4bba-ed71-1d9d541a6e3f"
      },
      "execution_count": 15,
      "outputs": [
        {
          "output_type": "stream",
          "name": "stdout",
          "text": [
            "<class 'int'>\n",
            "33\n"
          ]
        }
      ]
    },
    {
      "cell_type": "code",
      "source": [
        "# Arithmetic Operators\n",
        "\n",
        "num1 = 10\n",
        "num2 = 4\n",
        "\n",
        "print(\"Addition:\", num1 + num2)\n",
        "print(\"Subtraction:\", num1 - num2)\n",
        "print(\"Multiplication:\", num1 * num2)\n",
        "print(\"Division:\", num1 / num2)\n",
        "print(\"Floor_Division:\", num1 // num2)\n",
        "print(\"Remainder:\", num1 % num2)\n",
        "print(\"Modulus:\", num1 % num2)\n",
        "print(\"Exponent:\", num1 ** num2) #power"
      ],
      "metadata": {
        "colab": {
          "base_uri": "https://localhost:8080/"
        },
        "id": "iachs83dWrvg",
        "outputId": "6b29ab14-60fc-4a2d-97d3-32607d88c63d"
      },
      "execution_count": 16,
      "outputs": [
        {
          "output_type": "stream",
          "name": "stdout",
          "text": [
            "Addition: 14\n",
            "Subtraction: 6\n",
            "Multiplication: 40\n",
            "Division: 2.5\n",
            "Floor_Division: 2\n",
            "Remainder: 2\n",
            "Modulus: 2\n",
            "Exponent: 10000\n"
          ]
        }
      ]
    },
    {
      "cell_type": "code",
      "source": [
        "# Comparison Operators\n",
        "\n",
        "print(\"Equal:\", num1 == num2)\n",
        "print(\"Not equal:\", num1 != num2)\n",
        "print(\"Greater then:\", num1 > num2)\n",
        "print(\"Less than:\", num1 < num2)"
      ],
      "metadata": {
        "colab": {
          "base_uri": "https://localhost:8080/"
        },
        "id": "wnWMIm43WtMl",
        "outputId": "ad32170f-18d5-49f0-ef2f-af484b3045df"
      },
      "execution_count": 17,
      "outputs": [
        {
          "output_type": "stream",
          "name": "stdout",
          "text": [
            "Equal: False\n",
            "Not equal: True\n",
            "Greater then: True\n",
            "Less than: False\n"
          ]
        }
      ]
    },
    {
      "cell_type": "code",
      "source": [
        "# Logical Operators\n",
        "\n",
        "a = True\n",
        "b = False\n",
        "\n",
        "print(\"a AND b:\", a and b)\n",
        "print(\"a OR b:\", a or b)\n",
        "print(\"a NOT b:\", not b)"
      ],
      "metadata": {
        "colab": {
          "base_uri": "https://localhost:8080/"
        },
        "id": "XAjrrLVjWtxq",
        "outputId": "1af3584a-097c-4f0f-effb-256acf15a4f7"
      },
      "execution_count": 18,
      "outputs": [
        {
          "output_type": "stream",
          "name": "stdout",
          "text": [
            "a AND b: False\n",
            "a OR b: True\n",
            "a NOT b: True\n"
          ]
        }
      ]
    },
    {
      "cell_type": "code",
      "source": [
        "# Assignment Operators\n",
        "\n",
        "a = 10\n",
        "a += 5 # a = a + 5\n",
        "a -= 5 # a = a - 5\n",
        "a *= 5 # a = a * 5\n",
        "a /= 5 # a = a / 5\n",
        "\n",
        "print(a)"
      ],
      "metadata": {
        "colab": {
          "base_uri": "https://localhost:8080/"
        },
        "id": "feY8iV-fWvGh",
        "outputId": "b2e48271-6ce9-447d-c7af-5128bc8c48df"
      },
      "execution_count": 19,
      "outputs": [
        {
          "output_type": "stream",
          "name": "stdout",
          "text": [
            "10.0\n"
          ]
        }
      ]
    },
    {
      "cell_type": "code",
      "source": [
        "# Length Function\n",
        "\n",
        "sentence = \"A bunch of words\"\n",
        "\n",
        "print (len(sentence))"
      ],
      "metadata": {
        "colab": {
          "base_uri": "https://localhost:8080/"
        },
        "id": "B36mgJILWwWs",
        "outputId": "bd0b67db-582d-45b0-8c0b-76551db0a9ef"
      },
      "execution_count": 20,
      "outputs": [
        {
          "output_type": "stream",
          "name": "stdout",
          "text": [
            "16\n"
          ]
        }
      ]
    },
    {
      "cell_type": "code",
      "source": [
        "# Split Function\n",
        "\n",
        "sentence = \"A: bunch: of: words\"\n",
        "\n",
        "print (sentence.split(':'))"
      ],
      "metadata": {
        "colab": {
          "base_uri": "https://localhost:8080/"
        },
        "id": "1a5A-1KlWxo-",
        "outputId": "2df18a38-02a5-4629-f178-f97318609d25"
      },
      "execution_count": 21,
      "outputs": [
        {
          "output_type": "stream",
          "name": "stdout",
          "text": [
            "['A', ' bunch', ' of', ' words']\n"
          ]
        }
      ]
    },
    {
      "cell_type": "code",
      "source": [
        "# Random Function\n",
        "\n",
        "import random\n",
        "\n",
        "print(random.randint(1, 10))\n",
        "print(random.random())\n",
        "\n",
        "items = ['item1', 'item2', 'item3']\n",
        "print(random.choice(items))"
      ],
      "metadata": {
        "colab": {
          "base_uri": "https://localhost:8080/"
        },
        "id": "kvk7-qEfWzr8",
        "outputId": "2a9794c2-7808-4455-abe9-562983079311"
      },
      "execution_count": 22,
      "outputs": [
        {
          "output_type": "stream",
          "name": "stdout",
          "text": [
            "10\n",
            "0.31367355998978697\n",
            "item1\n"
          ]
        }
      ]
    }
  ]
}