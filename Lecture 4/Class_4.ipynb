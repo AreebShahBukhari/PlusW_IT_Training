{
  "nbformat": 4,
  "nbformat_minor": 0,
  "metadata": {
    "colab": {
      "provenance": []
    },
    "kernelspec": {
      "name": "python3",
      "display_name": "Python 3"
    },
    "language_info": {
      "name": "python"
    }
  },
  "cells": [
    {
      "cell_type": "code",
      "execution_count": 1,
      "metadata": {
        "colab": {
          "base_uri": "https://localhost:8080/"
        },
        "id": "gNk-dAW7bOwT",
        "outputId": "8a2dafa3-6f33-48f8-fb6b-2d843097f828"
      },
      "outputs": [
        {
          "output_type": "stream",
          "name": "stdout",
          "text": [
            "This is me saying something\n"
          ]
        }
      ],
      "source": [
        "# Assigning functions to variables\n",
        "\n",
        "def say_something():\n",
        "  print(\"This is me saying something\")\n",
        "\n",
        "\n",
        "\n",
        "saying = say_something\n",
        "\n",
        "saying()"
      ]
    },
    {
      "cell_type": "code",
      "source": [
        "# Passing functions as arguments\n",
        "\n",
        "def add(a, b):\n",
        "  return a + b\n",
        "\n",
        "def sub(a, b):\n",
        "  return a - b\n",
        "\n",
        "def mult(a, b):\n",
        "  return a * b\n",
        "\n",
        "def div(a, b):\n",
        "  return a / b\n",
        "\n",
        "\n",
        "def opNumber(f, a, b):\n",
        "  return f(a, b)\n",
        "\n",
        "\n",
        "\n",
        "print(f\"The sum of 2 and 3 is: {opNumber(add, 2, 3)}\")\n",
        "print(f\"The difference of 2 and 3 is: {opNumber(sub, 2, 3)}\")\n",
        "print(f\"The product of 2 and 3 is: {opNumber(mult, 2, 3)}\")\n",
        "print(f\"The quotient of 2 and 3 is: {opNumber(div, 2, 3)}\")"
      ],
      "metadata": {
        "colab": {
          "base_uri": "https://localhost:8080/"
        },
        "id": "ZcvMQu4Nbb1B",
        "outputId": "1ace03e0-6af7-48e9-8289-d2073cdaee2f"
      },
      "execution_count": 2,
      "outputs": [
        {
          "output_type": "stream",
          "name": "stdout",
          "text": [
            "The sum of 2 and 3 is: 5\n",
            "The difference of 2 and 3 is: -1\n",
            "The product of 2 and 3 is: 6\n",
            "The quotient of 2 and 3 is: 0.6666666666666666\n"
          ]
        }
      ]
    },
    {
      "cell_type": "code",
      "source": [
        "# Returning functions from other functions\n",
        "\n",
        "def adder(num1):\n",
        "  def adding(num2):\n",
        "    return num1 + num2\n",
        "  return adding\n",
        "\n",
        "\n",
        "\n",
        "startingAdd = adder(4)\n",
        "print(startingAdd(6))"
      ],
      "metadata": {
        "colab": {
          "base_uri": "https://localhost:8080/"
        },
        "id": "g7yz3lZLbi0s",
        "outputId": "1bf1e14b-3fc8-4d29-a549-be4dcb9604ae"
      },
      "execution_count": 3,
      "outputs": [
        {
          "output_type": "stream",
          "name": "stdout",
          "text": [
            "10\n"
          ]
        }
      ]
    },
    {
      "cell_type": "code",
      "source": [
        "# Recursive function\n",
        "\n",
        "def factorial(n):\n",
        "  if n == 1:\n",
        "    return 1\n",
        "  return n * factorial(n - 1)\n",
        "\n",
        "\n",
        "\n",
        "print(factorial(5))"
      ],
      "metadata": {
        "colab": {
          "base_uri": "https://localhost:8080/"
        },
        "id": "062zJn5Nblii",
        "outputId": "bed13136-6c86-4dc0-e46a-de72926501e1"
      },
      "execution_count": 4,
      "outputs": [
        {
          "output_type": "stream",
          "name": "stdout",
          "text": [
            "120\n"
          ]
        }
      ]
    },
    {
      "cell_type": "code",
      "source": [
        "# Doc strings\n",
        "\n",
        "def add(a, b):\n",
        "  '''Adds both the numbers passed as parameters'''\n",
        "  return a + b\n",
        "\n",
        "\n",
        "help(add)"
      ],
      "metadata": {
        "colab": {
          "base_uri": "https://localhost:8080/"
        },
        "id": "2BaXU8Cnbm8J",
        "outputId": "4cfada10-38ac-4d31-cac4-c48b96048add"
      },
      "execution_count": 5,
      "outputs": [
        {
          "output_type": "stream",
          "name": "stdout",
          "text": [
            "Help on function add in module __main__:\n",
            "\n",
            "add(a, b)\n",
            "    Adds both the numbers passed as parameters\n",
            "\n"
          ]
        }
      ]
    },
    {
      "cell_type": "code",
      "source": [
        "# Local variables\n",
        "\n",
        "def add():\n",
        "  a = 1\n",
        "  b = 1\n",
        "  print(f\"The sum of {a} and {b} is: {a + b}\")\n",
        "\n",
        "\n",
        "\n",
        "add()"
      ],
      "metadata": {
        "colab": {
          "base_uri": "https://localhost:8080/"
        },
        "id": "O8A94WnpbscA",
        "outputId": "e7acfffa-9a8a-4d19-a0ad-058c4cdc7c32"
      },
      "execution_count": 6,
      "outputs": [
        {
          "output_type": "stream",
          "name": "stdout",
          "text": [
            "The sum of 1 and 1 is: 2\n"
          ]
        }
      ]
    },
    {
      "cell_type": "code",
      "source": [
        "# Global variables\n",
        "\n",
        "a = 2\n",
        "b = 2\n",
        "\n",
        "def add():\n",
        "  print(f\"The sum of {a} and {b} is: {a + b}\")\n",
        "\n",
        "\n",
        "\n",
        "add()"
      ],
      "metadata": {
        "colab": {
          "base_uri": "https://localhost:8080/"
        },
        "id": "ukkIEbAqbvrA",
        "outputId": "1a7d00c9-fc12-404d-bf8b-a8ca175a2f92"
      },
      "execution_count": 7,
      "outputs": [
        {
          "output_type": "stream",
          "name": "stdout",
          "text": [
            "The sum of 2 and 2 is: 4\n"
          ]
        }
      ]
    },
    {
      "cell_type": "code",
      "source": [
        "a = 10\n",
        "b = 20\n",
        "\n",
        "def add():\n",
        "  global b\n",
        "  b = 10\n",
        "  print(f\"The sum of {a} and {b} is: {a + b}\")\n",
        "\n",
        "\n",
        "\n",
        "add()"
      ],
      "metadata": {
        "colab": {
          "base_uri": "https://localhost:8080/"
        },
        "id": "ITPXuXhGby0C",
        "outputId": "e040ad4e-5378-4965-993d-22bbc8eb2d16"
      },
      "execution_count": 8,
      "outputs": [
        {
          "output_type": "stream",
          "name": "stdout",
          "text": [
            "The sum of 10 and 10 is: 20\n"
          ]
        }
      ]
    },
    {
      "cell_type": "code",
      "source": [
        "def bigboy():\n",
        "  a = 6\n",
        "  def lilboy():\n",
        "    nonlocal a\n",
        "    a =5\n",
        "  lilboy()\n",
        "  print(f\"The value of x in the bigboy league is: {a}\")\n",
        "\n",
        "bigboy()"
      ],
      "metadata": {
        "colab": {
          "base_uri": "https://localhost:8080/"
        },
        "id": "8j1W_45Xb1kg",
        "outputId": "b52b6ec4-dfd3-4650-cac9-1b5539bab7ee"
      },
      "execution_count": 9,
      "outputs": [
        {
          "output_type": "stream",
          "name": "stdout",
          "text": [
            "The value of x in the bigboy league is: 5\n"
          ]
        }
      ]
    },
    {
      "cell_type": "code",
      "source": [
        "import numpy as np"
      ],
      "metadata": {
        "id": "zmAVH-eab8tb"
      },
      "execution_count": 14,
      "outputs": []
    },
    {
      "cell_type": "code",
      "source": [
        "# Python lists and NumPy arrays\n",
        "import numpy as np\n",
        "za_py_list = [1, 2, 3, 4, 5]\n",
        "za_np_array = np.array([1, 2, 3, 4, 5])\n",
        "\n",
        "print(type(za_py_list))\n",
        "print(type(za_np_array))"
      ],
      "metadata": {
        "colab": {
          "base_uri": "https://localhost:8080/"
        },
        "id": "JpJED8hTb-Vj",
        "outputId": "ce7a5859-b2e9-4db0-8fe7-384f25047c49"
      },
      "execution_count": 13,
      "outputs": [
        {
          "output_type": "stream",
          "name": "stdout",
          "text": [
            "<class 'list'>\n",
            "<class 'numpy.ndarray'>\n"
          ]
        }
      ]
    },
    {
      "cell_type": "code",
      "source": [
        "# Dimensional arrays\n",
        "\n",
        "array_1D = np.array([1, 2, 3, 4, 5])\n",
        "print(array_1D)\n",
        "\n",
        "array_2D = np.array([[1, 2, 3],\n",
        "                    [4, 5, 6]])\n",
        "print(array_2D)\n",
        "\n",
        "print(array_2D.ndim)"
      ],
      "metadata": {
        "colab": {
          "base_uri": "https://localhost:8080/"
        },
        "id": "qBFqi-kscFdV",
        "outputId": "fda43f6f-1ac1-4ad7-bc75-f161ec394ff0"
      },
      "execution_count": 15,
      "outputs": [
        {
          "output_type": "stream",
          "name": "stdout",
          "text": [
            "[1 2 3 4 5]\n",
            "[[1 2 3]\n",
            " [4 5 6]]\n",
            "2\n"
          ]
        }
      ]
    },
    {
      "cell_type": "code",
      "source": [
        "# Array of zeroes\n",
        "\n",
        "zeros_array = np.zeros((2, 3))\n",
        "print(zeros_array)\n",
        "\n",
        "\n",
        "# Array of ones\n",
        "\n",
        "ones_array = np.ones((2, 3))\n",
        "print(ones_array)\n",
        "\n",
        "\n",
        "# Array of nines\n",
        "\n",
        "nines_array = np.full((2, 3), 9)\n",
        "print(nines_array)"
      ],
      "metadata": {
        "colab": {
          "base_uri": "https://localhost:8080/"
        },
        "id": "058-ggQrcIZ-",
        "outputId": "9a4629b8-06cb-4140-807e-d72145fb6ae8"
      },
      "execution_count": 16,
      "outputs": [
        {
          "output_type": "stream",
          "name": "stdout",
          "text": [
            "[[0. 0. 0.]\n",
            " [0. 0. 0.]]\n",
            "[[1. 1. 1.]\n",
            " [1. 1. 1.]]\n",
            "[[9 9 9]\n",
            " [9 9 9]]\n"
          ]
        }
      ]
    },
    {
      "cell_type": "code",
      "source": [
        "# Numpy array of evenly spaced values\n",
        "\n",
        "linspace_array = np.linspace(1, 21, 4)\n",
        "print(linspace_array)\n",
        "\n",
        "\n",
        "# Numpy array with number range\n",
        "\n",
        "range_array = np.arange(1, 21, 4)\n",
        "print(range_array)"
      ],
      "metadata": {
        "colab": {
          "base_uri": "https://localhost:8080/"
        },
        "id": "kVblGNdkcPlX",
        "outputId": "b06294f8-58f3-4a7e-8461-6a498d05e8f7"
      },
      "execution_count": 17,
      "outputs": [
        {
          "output_type": "stream",
          "name": "stdout",
          "text": [
            "[ 1.          7.66666667 14.33333333 21.        ]\n",
            "[ 1  5  9 13 17]\n"
          ]
        }
      ]
    },
    {
      "cell_type": "code",
      "source": [
        "# Random numpy array between 0 & 1\n",
        "\n",
        "ran_array = np.random.rand(3, 3)\n",
        "print(ran_array)\n",
        "\n",
        "\n",
        "# Random array between 1 & 499\n",
        "\n",
        "ran2_arr = np.random.randint(1, 500, (3, 3))\n",
        "print(ran2_arr)\n",
        "print(ran2_arr.ndim)"
      ],
      "metadata": {
        "colab": {
          "base_uri": "https://localhost:8080/"
        },
        "id": "1zk3VPaZcRuf",
        "outputId": "6d04a895-f007-44a8-c406-208be3373588"
      },
      "execution_count": 18,
      "outputs": [
        {
          "output_type": "stream",
          "name": "stdout",
          "text": [
            "[[0.20038649 0.75166187 0.87534584]\n",
            " [0.95736258 0.37506037 0.57155258]\n",
            " [0.7016258  0.12197687 0.58162285]]\n",
            "[[ 31 120  18]\n",
            " [459 425  97]\n",
            " [238 291 121]]\n",
            "2\n"
          ]
        }
      ]
    },
    {
      "cell_type": "code",
      "source": [
        "# Shape, size and dimensions of array\n",
        "\n",
        "arr3 = np.array([[1, 2, 3],\n",
        "                 [4, 5, 6]])\n",
        "\n",
        "print(arr3.shape)\n",
        "print(arr3.size)\n",
        "print(arr3.ndim)"
      ],
      "metadata": {
        "colab": {
          "base_uri": "https://localhost:8080/"
        },
        "id": "XQVQGD92cT4K",
        "outputId": "4ecae321-7919-445f-a1f2-c862e9f2fdd5"
      },
      "execution_count": 19,
      "outputs": [
        {
          "output_type": "stream",
          "name": "stdout",
          "text": [
            "(2, 3)\n",
            "6\n",
            "2\n"
          ]
        }
      ]
    },
    {
      "cell_type": "code",
      "source": [
        "# Reshaping arrays\n",
        "\n",
        "og_array = np.array([9, 8, 7, 6, 5, 4])\n",
        "print(og_array)\n",
        "\n",
        "reshaped_array = og_array.reshape(2, 3)\n",
        "print(reshaped_array)"
      ],
      "metadata": {
        "colab": {
          "base_uri": "https://localhost:8080/"
        },
        "id": "XdjOgsAOcVoh",
        "outputId": "8227c36c-b723-4fe3-e515-ea53808d9e3d"
      },
      "execution_count": 20,
      "outputs": [
        {
          "output_type": "stream",
          "name": "stdout",
          "text": [
            "[9 8 7 6 5 4]\n",
            "[[9 8 7]\n",
            " [6 5 4]]\n"
          ]
        }
      ]
    },
    {
      "cell_type": "code",
      "source": [
        "arr1 = np.array([1, 2, 3])\n",
        "arr2 = np.array([4, 5, 6])\n",
        "\n",
        "print(f\"The sum of {arr1} and {arr2} is: {arr1 + arr2}\")"
      ],
      "metadata": {
        "colab": {
          "base_uri": "https://localhost:8080/"
        },
        "id": "YhuOG4vvcXFh",
        "outputId": "3867a4d4-8bc7-43a4-aa25-1b1c137fbcfc"
      },
      "execution_count": 21,
      "outputs": [
        {
          "output_type": "stream",
          "name": "stdout",
          "text": [
            "The sum of [1 2 3] and [4 5 6] is: [5 7 9]\n"
          ]
        }
      ]
    },
    {
      "cell_type": "code",
      "source": [
        "# min, max, sum\n",
        "\n",
        "arr = np.array([[1, 2, 3],\n",
        "                [4, 5, 6]])\n",
        "\n",
        "print(np.max(arr))\n",
        "print(np.min(arr))\n",
        "print(np.sum(arr))"
      ],
      "metadata": {
        "colab": {
          "base_uri": "https://localhost:8080/"
        },
        "id": "vLOY4VTfcZ1w",
        "outputId": "da0505fb-d0d6-4543-f9f4-b41df4614132"
      },
      "execution_count": 22,
      "outputs": [
        {
          "output_type": "stream",
          "name": "stdout",
          "text": [
            "6\n",
            "1\n",
            "21\n"
          ]
        }
      ]
    },
    {
      "cell_type": "code",
      "source": [
        "# Array indexing\n",
        "\n",
        "arr = np.array([[1, 2, 3],\n",
        "                [4, 5, 6],\n",
        "                [7, 8, 9]])\n",
        "\n",
        "i = 2\n",
        "j = 2\n",
        "\n",
        "print(f\"A random number at index: ({i}, {j}) is {arr[i, j]}\")"
      ],
      "metadata": {
        "colab": {
          "base_uri": "https://localhost:8080/"
        },
        "id": "y_wbsGjRcbg6",
        "outputId": "6c874291-801b-4f6c-c2a0-9a07889800d9"
      },
      "execution_count": 23,
      "outputs": [
        {
          "output_type": "stream",
          "name": "stdout",
          "text": [
            "A random number at index: (2, 2) is 9\n"
          ]
        }
      ]
    },
    {
      "cell_type": "code",
      "source": [
        "# Slicing concept\n",
        "\n",
        "arr1 = np.array([9, 8, 7, 6, 5, 4, 3, 2, 1])\n",
        "print(arr1[::-1])\n",
        "\n",
        "\n",
        "arr2 = np.array([[9, 8, 7],\n",
        "                 [6, 5, 4],\n",
        "                 [3, 2, 1]])\n",
        "print(arr2[:-1:])"
      ],
      "metadata": {
        "colab": {
          "base_uri": "https://localhost:8080/"
        },
        "id": "Tz2j7mfxcgcg",
        "outputId": "12ba9292-c6ba-45ea-8e1b-990fc1ce6bbd"
      },
      "execution_count": 24,
      "outputs": [
        {
          "output_type": "stream",
          "name": "stdout",
          "text": [
            "[1 2 3 4 5 6 7 8 9]\n",
            "[[9 8 7]\n",
            " [6 5 4]]\n"
          ]
        }
      ]
    },
    {
      "cell_type": "code",
      "source": [
        "# Conditional filtering\n",
        "\n",
        "arr = np.array([1, 2, 3, 4, 5, 6, 7, 8, 9])\n",
        "gibeth = np.where(arr > 7)\n",
        "\n",
        "print(gibeth)"
      ],
      "metadata": {
        "colab": {
          "base_uri": "https://localhost:8080/"
        },
        "id": "EMM0ZmB2co1I",
        "outputId": "a0ae5dec-fc5d-4a3d-e888-487c450e5a09"
      },
      "execution_count": 25,
      "outputs": [
        {
          "output_type": "stream",
          "name": "stdout",
          "text": [
            "(array([7, 8]),)\n"
          ]
        }
      ]
    },
    {
      "cell_type": "code",
      "source": [
        "arr1 = np.array([9, 8, 7, 6, 5, 4, 3, 2, 1])\n",
        "print(arr1)\n",
        "\n",
        "arr2 = np.take(arr1, [0, 4, 6, 7])\n",
        "print(arr2)\n",
        "\n",
        "np.put(arr1, [0, 4, 6, 7], [5, 1, 8, 7])\n",
        "print(arr1)"
      ],
      "metadata": {
        "colab": {
          "base_uri": "https://localhost:8080/"
        },
        "id": "sRoQGPticq4e",
        "outputId": "fceca46a-fbed-4bb1-b9d7-f91e3d25eb50"
      },
      "execution_count": 26,
      "outputs": [
        {
          "output_type": "stream",
          "name": "stdout",
          "text": [
            "[9 8 7 6 5 4 3 2 1]\n",
            "[9 5 3 2]\n",
            "[5 8 7 6 1 4 8 7 1]\n"
          ]
        }
      ]
    }
  ]
}